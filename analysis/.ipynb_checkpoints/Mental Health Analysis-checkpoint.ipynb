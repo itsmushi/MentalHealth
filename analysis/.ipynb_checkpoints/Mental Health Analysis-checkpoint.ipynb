{
 "cells": [
  {
   "cell_type": "markdown",
   "metadata": {},
   "source": [
    "# Analysis of Mental Health in Technology \n",
    "#### Kaylynn Crawford \n",
    "\n",
    "https://silentttone.github.io/MentalHealth/\n",
    "\n",
    "I'm using a dataset about mental health in technology to try to answer the question: what company policies are most effective in encouraging employees to get help for mental health disorders, if necessary? To do this I created a decision tree with \"Treatment\" as a response variable. "
   ]
  },
  {
   "cell_type": "code",
   "execution_count": 10,
   "metadata": {
    "collapsed": false
   },
   "outputs": [],
   "source": [
    "import pandas as pd\n",
    "import numpy as np\n",
    "import matplotlib as mpl\n",
    "import matplotlib.pyplot as plt\n",
    "import graphviz\n",
    "\n",
    "from sklearn.cross_validation import train_test_split\n",
    "from sklearn.tree import DecisionTreeClassifier, export_graphviz\n",
    "\n",
    "%matplotlib inline"
   ]
  },
  {
   "cell_type": "markdown",
   "metadata": {},
   "source": [
    "### Data Setup \n",
    "\n",
    "Reads in data, drops unwanted columns, converts all 'object' types to 'category', and drops rows without a current mental health disorder"
   ]
  },
  {
   "cell_type": "code",
   "execution_count": 11,
   "metadata": {
    "collapsed": false,
    "scrolled": true
   },
   "outputs": [],
   "source": [
    "# Read in file\n",
    "data = pd.read_csv('../data/mentalHealth.csv')\n",
    "\n",
    "# Remove columns with an unlimited number of options \n",
    "data = data.drop(['Gender', 'CountryLive', 'CountryWork', 'Position', 'StateLive', 'StateWork'], 1)\n",
    "\n",
    "# Remove overly helpful data\n",
    "\n",
    "#this could show your likelihood to get treatment regardless of company policy \n",
    "data = data.drop(['InterfereNotTreated', 'InterfereTreated'], 1) \n",
    "\n",
    "# Possibly pointless data\n",
    "data = data.drop(['NumEmp'], 1)\n",
    "\n",
    "# And muddling data\n",
    "data = data.drop(['FamHistory', 'PastMental', 'FamMental'], 1)\n",
    "data = data.drop(['PhyInterview', 'Remote', 'Age'], 1)\n",
    "\n",
    "# Convert all objects to category \n",
    "for n in list(data.columns.values): \n",
    "    if (data[n].dtype == object):\n",
    "        data[n] = data[n].astype('category')   \n",
    "        \n",
    "# This removes all cases where CurMental == No\n",
    "data = data[data.CurMental == \"No\"]\n",
    "\n",
    "# For readability\n",
    "data.ix[data.Treatment == 0, 'Treatment'] = \"No\"\n",
    "data.ix[data.Treatment == 1, 'Treatment'] = \"Yes\""
   ]
  },
  {
   "cell_type": "markdown",
   "metadata": {},
   "source": [
    "### Deal with NaN Values\n",
    "\n",
    "Drop the 11 columns with more than 400 no response values in order to get more complete datapoints with the remaining factors"
   ]
  },
  {
   "cell_type": "code",
   "execution_count": 17,
   "metadata": {
    "collapsed": false,
    "scrolled": true
   },
   "outputs": [
    {
     "data": {
      "text/plain": [
       "356"
      ]
     },
     "execution_count": 17,
     "metadata": {},
     "output_type": "execute_result"
    }
   ],
   "source": [
    "# Drop columns with over 400 NaN values \n",
    "for n in list(data.columns.values):\n",
    "    if(data[n].isnull().sum() > 400):\n",
    "        print(n, data[n].isnull().sum())\n",
    "        data = data.drop([n], axis=1)\n",
    "    \n",
    "# Remove any leftover rows with NaN values \n",
    "data = data.dropna(axis=0,how='any')\n",
    "\n",
    "# Currently, this leaves us with 356 variables \n",
    "len(data)"
   ]
  },
  {
   "cell_type": "markdown",
   "metadata": {},
   "source": [
    "### Prepare variables for model\n",
    "\n",
    "Factorize categorical variables. "
   ]
  },
  {
   "cell_type": "code",
   "execution_count": 18,
   "metadata": {
    "collapsed": false,
    "scrolled": true
   },
   "outputs": [],
   "source": [
    "# Reference: https://gist.github.com/ramhiser/982ce339d5f8c9a769a0\n",
    "\n",
    "for n in list(data.columns.values): \n",
    "    if (str(data[n].dtype) == 'category'):\n",
    "        one_hot = pd.get_dummies(data[n], prefix=n)\n",
    "        data = data.drop(n, axis = 1)\n",
    "        data = data.join(one_hot)"
   ]
  },
  {
   "cell_type": "markdown",
   "metadata": {},
   "source": [
    "### Create training and test set"
   ]
  },
  {
   "cell_type": "code",
   "execution_count": 19,
   "metadata": {
    "collapsed": false
   },
   "outputs": [],
   "source": [
    "X = data.drop(['Treatment', 'CurMental_Maybe', 'CurMental_Yes', 'CurMental_No'], axis=1)\n",
    "y = data.Treatment"
   ]
  },
  {
   "cell_type": "markdown",
   "metadata": {},
   "source": [
    "### Create decision tree\n",
    "\n",
    "Using all data because I don't need predictive ability, and have a small sample size."
   ]
  },
  {
   "cell_type": "code",
   "execution_count": 16,
   "metadata": {
    "collapsed": false,
    "scrolled": true
   },
   "outputs": [
    {
     "name": "stdout",
     "output_type": "stream",
     "text": [
      "0.86797752809\n",
      "['No' 'Yes']\n",
      "64\n"
     ]
    }
   ],
   "source": [
    "clf = DecisionTreeClassifier(max_depth=3)\n",
    "clf.fit(X, y)\n",
    "print (clf.score(X, y))\n",
    "print (clf.classes_)"
   ]
  },
  {
   "cell_type": "markdown",
   "metadata": {},
   "source": [
    "### Visualize tree"
   ]
  },
  {
   "cell_type": "code",
   "execution_count": 43,
   "metadata": {
    "collapsed": false,
    "scrolled": false
   },
   "outputs": [
    {
     "data": {
      "image/svg+xml": [
       "<?xml version=\"1.0\" encoding=\"UTF-8\" standalone=\"no\"?>\n",
       "<!DOCTYPE svg PUBLIC \"-//W3C//DTD SVG 1.1//EN\"\n",
       " \"http://www.w3.org/Graphics/SVG/1.1/DTD/svg11.dtd\">\n",
       "<!-- Generated by graphviz version 2.38.0 (20140413.2041)\n",
       " -->\n",
       "<!-- Title: Tree Pages: 1 -->\n",
       "<svg width=\"823pt\" height=\"373pt\"\n",
       " viewBox=\"0.00 0.00 822.50 373.00\" xmlns=\"http://www.w3.org/2000/svg\" xmlns:xlink=\"http://www.w3.org/1999/xlink\">\n",
       "<g id=\"graph0\" class=\"graph\" transform=\"scale(1 1) rotate(0) translate(4 369)\">\n",
       "<title>Tree</title>\n",
       "<polygon fill=\"white\" stroke=\"none\" points=\"-4,4 -4,-369 818.5,-369 818.5,4 -4,4\"/>\n",
       "<!-- 0 -->\n",
       "<g id=\"node1\" class=\"node\"><title>0</title>\n",
       "<polygon fill=\"none\" stroke=\"black\" points=\"572,-365 433,-365 433,-297 572,-297 572,-365\"/>\n",
       "<text text-anchor=\"middle\" x=\"502.5\" y=\"-349.8\" font-family=\"Times,serif\" font-size=\"14.00\">Diagnosed_No &lt;= 0.5</text>\n",
       "<text text-anchor=\"middle\" x=\"502.5\" y=\"-334.8\" font-family=\"Times,serif\" font-size=\"14.00\">gini = 0.3939</text>\n",
       "<text text-anchor=\"middle\" x=\"502.5\" y=\"-319.8\" font-family=\"Times,serif\" font-size=\"14.00\">samples = 356</text>\n",
       "<text text-anchor=\"middle\" x=\"502.5\" y=\"-304.8\" font-family=\"Times,serif\" font-size=\"14.00\">value = [260, 96]</text>\n",
       "</g>\n",
       "<!-- 1 -->\n",
       "<g id=\"node2\" class=\"node\"><title>1</title>\n",
       "<polygon fill=\"none\" stroke=\"black\" points=\"465.5,-261 307.5,-261 307.5,-193 465.5,-193 465.5,-261\"/>\n",
       "<text text-anchor=\"middle\" x=\"386.5\" y=\"-245.8\" font-family=\"Times,serif\" font-size=\"14.00\">ResourcesBen_No &lt;= 0.5</text>\n",
       "<text text-anchor=\"middle\" x=\"386.5\" y=\"-230.8\" font-family=\"Times,serif\" font-size=\"14.00\">gini = 0.1827</text>\n",
       "<text text-anchor=\"middle\" x=\"386.5\" y=\"-215.8\" font-family=\"Times,serif\" font-size=\"14.00\">samples = 59</text>\n",
       "<text text-anchor=\"middle\" x=\"386.5\" y=\"-200.8\" font-family=\"Times,serif\" font-size=\"14.00\">value = [6, 53]</text>\n",
       "</g>\n",
       "<!-- 0&#45;&gt;1 -->\n",
       "<g id=\"edge1\" class=\"edge\"><title>0&#45;&gt;1</title>\n",
       "<path fill=\"none\" stroke=\"black\" d=\"M464.838,-296.884C454.404,-287.709 442.965,-277.65 432.13,-268.123\"/>\n",
       "<polygon fill=\"black\" stroke=\"black\" points=\"434.191,-265.274 424.37,-261.299 429.568,-270.531 434.191,-265.274\"/>\n",
       "<text text-anchor=\"middle\" x=\"425.972\" y=\"-282.548\" font-family=\"Times,serif\" font-size=\"14.00\">True</text>\n",
       "</g>\n",
       "<!-- 8 -->\n",
       "<g id=\"node9\" class=\"node\"><title>8</title>\n",
       "<polygon fill=\"none\" stroke=\"black\" points=\"716,-261 521,-261 521,-193 716,-193 716,-261\"/>\n",
       "<text text-anchor=\"middle\" x=\"618.5\" y=\"-245.8\" font-family=\"Times,serif\" font-size=\"14.00\">NegMental_Yes, they do &lt;= 0.5</text>\n",
       "<text text-anchor=\"middle\" x=\"618.5\" y=\"-230.8\" font-family=\"Times,serif\" font-size=\"14.00\">gini = 0.2476</text>\n",
       "<text text-anchor=\"middle\" x=\"618.5\" y=\"-215.8\" font-family=\"Times,serif\" font-size=\"14.00\">samples = 297</text>\n",
       "<text text-anchor=\"middle\" x=\"618.5\" y=\"-200.8\" font-family=\"Times,serif\" font-size=\"14.00\">value = [254, 43]</text>\n",
       "</g>\n",
       "<!-- 0&#45;&gt;8 -->\n",
       "<g id=\"edge8\" class=\"edge\"><title>0&#45;&gt;8</title>\n",
       "<path fill=\"none\" stroke=\"black\" d=\"M540.162,-296.884C550.596,-287.709 562.035,-277.65 572.87,-268.123\"/>\n",
       "<polygon fill=\"black\" stroke=\"black\" points=\"575.432,-270.531 580.63,-261.299 570.809,-265.274 575.432,-270.531\"/>\n",
       "<text text-anchor=\"middle\" x=\"579.028\" y=\"-282.548\" font-family=\"Times,serif\" font-size=\"14.00\">False</text>\n",
       "</g>\n",
       "<!-- 2 -->\n",
       "<g id=\"node3\" class=\"node\"><title>2</title>\n",
       "<polygon fill=\"none\" stroke=\"black\" points=\"241,-157 1.42109e-14,-157 1.42109e-14,-89 241,-89 241,-157\"/>\n",
       "<text text-anchor=\"middle\" x=\"120.5\" y=\"-141.8\" font-family=\"Times,serif\" font-size=\"14.00\">NegResponse_Yes, I experienced &lt;= 0.5</text>\n",
       "<text text-anchor=\"middle\" x=\"120.5\" y=\"-126.8\" font-family=\"Times,serif\" font-size=\"14.00\">gini = 0.0555</text>\n",
       "<text text-anchor=\"middle\" x=\"120.5\" y=\"-111.8\" font-family=\"Times,serif\" font-size=\"14.00\">samples = 35</text>\n",
       "<text text-anchor=\"middle\" x=\"120.5\" y=\"-96.8\" font-family=\"Times,serif\" font-size=\"14.00\">value = [1, 34]</text>\n",
       "</g>\n",
       "<!-- 1&#45;&gt;2 -->\n",
       "<g id=\"edge2\" class=\"edge\"><title>1&#45;&gt;2</title>\n",
       "<path fill=\"none\" stroke=\"black\" d=\"M307.411,-195.673C278.806,-184.704 246.197,-172.199 216.311,-160.739\"/>\n",
       "<polygon fill=\"black\" stroke=\"black\" points=\"217.302,-157.371 206.712,-157.059 214.796,-163.907 217.302,-157.371\"/>\n",
       "</g>\n",
       "<!-- 5 -->\n",
       "<g id=\"node6\" class=\"node\"><title>5</title>\n",
       "<polygon fill=\"none\" stroke=\"black\" points=\"514,-157 259,-157 259,-89 514,-89 514,-157\"/>\n",
       "<text text-anchor=\"middle\" x=\"386.5\" y=\"-141.8\" font-family=\"Times,serif\" font-size=\"14.00\">NegMental_Yes, I think they would &lt;= 0.5</text>\n",
       "<text text-anchor=\"middle\" x=\"386.5\" y=\"-126.8\" font-family=\"Times,serif\" font-size=\"14.00\">gini = 0.3299</text>\n",
       "<text text-anchor=\"middle\" x=\"386.5\" y=\"-111.8\" font-family=\"Times,serif\" font-size=\"14.00\">samples = 24</text>\n",
       "<text text-anchor=\"middle\" x=\"386.5\" y=\"-96.8\" font-family=\"Times,serif\" font-size=\"14.00\">value = [5, 19]</text>\n",
       "</g>\n",
       "<!-- 1&#45;&gt;5 -->\n",
       "<g id=\"edge5\" class=\"edge\"><title>1&#45;&gt;5</title>\n",
       "<path fill=\"none\" stroke=\"black\" d=\"M386.5,-192.884C386.5,-184.778 386.5,-175.982 386.5,-167.472\"/>\n",
       "<polygon fill=\"black\" stroke=\"black\" points=\"390,-167.299 386.5,-157.299 383,-167.299 390,-167.299\"/>\n",
       "</g>\n",
       "<!-- 3 -->\n",
       "<g id=\"node4\" class=\"node\"><title>3</title>\n",
       "<polygon fill=\"none\" stroke=\"black\" points=\"133.5,-53 35.5,-53 35.5,-0 133.5,-0 133.5,-53\"/>\n",
       "<text text-anchor=\"middle\" x=\"84.5\" y=\"-37.8\" font-family=\"Times,serif\" font-size=\"14.00\">gini = 0.0</text>\n",
       "<text text-anchor=\"middle\" x=\"84.5\" y=\"-22.8\" font-family=\"Times,serif\" font-size=\"14.00\">samples = 31</text>\n",
       "<text text-anchor=\"middle\" x=\"84.5\" y=\"-7.8\" font-family=\"Times,serif\" font-size=\"14.00\">value = [0, 31]</text>\n",
       "</g>\n",
       "<!-- 2&#45;&gt;3 -->\n",
       "<g id=\"edge3\" class=\"edge\"><title>2&#45;&gt;3</title>\n",
       "<path fill=\"none\" stroke=\"black\" d=\"M107.909,-88.9485C104.668,-80.4408 101.169,-71.2562 97.8891,-62.6464\"/>\n",
       "<polygon fill=\"black\" stroke=\"black\" points=\"101.135,-61.3356 94.3045,-53.2367 94.5938,-63.8276 101.135,-61.3356\"/>\n",
       "</g>\n",
       "<!-- 4 -->\n",
       "<g id=\"node5\" class=\"node\"><title>4</title>\n",
       "<polygon fill=\"none\" stroke=\"black\" points=\"243.5,-53 151.5,-53 151.5,-0 243.5,-0 243.5,-53\"/>\n",
       "<text text-anchor=\"middle\" x=\"197.5\" y=\"-37.8\" font-family=\"Times,serif\" font-size=\"14.00\">gini = 0.375</text>\n",
       "<text text-anchor=\"middle\" x=\"197.5\" y=\"-22.8\" font-family=\"Times,serif\" font-size=\"14.00\">samples = 4</text>\n",
       "<text text-anchor=\"middle\" x=\"197.5\" y=\"-7.8\" font-family=\"Times,serif\" font-size=\"14.00\">value = [1, 3]</text>\n",
       "</g>\n",
       "<!-- 2&#45;&gt;4 -->\n",
       "<g id=\"edge4\" class=\"edge\"><title>2&#45;&gt;4</title>\n",
       "<path fill=\"none\" stroke=\"black\" d=\"M147.431,-88.9485C154.736,-79.9834 162.653,-70.2666 169.989,-61.2629\"/>\n",
       "<polygon fill=\"black\" stroke=\"black\" points=\"172.926,-63.1999 176.529,-53.2367 167.499,-58.7782 172.926,-63.1999\"/>\n",
       "</g>\n",
       "<!-- 6 -->\n",
       "<g id=\"node7\" class=\"node\"><title>6</title>\n",
       "<polygon fill=\"none\" stroke=\"black\" points=\"396.5,-53 298.5,-53 298.5,-0 396.5,-0 396.5,-53\"/>\n",
       "<text text-anchor=\"middle\" x=\"347.5\" y=\"-37.8\" font-family=\"Times,serif\" font-size=\"14.00\">gini = 0.2076</text>\n",
       "<text text-anchor=\"middle\" x=\"347.5\" y=\"-22.8\" font-family=\"Times,serif\" font-size=\"14.00\">samples = 17</text>\n",
       "<text text-anchor=\"middle\" x=\"347.5\" y=\"-7.8\" font-family=\"Times,serif\" font-size=\"14.00\">value = [2, 15]</text>\n",
       "</g>\n",
       "<!-- 5&#45;&gt;6 -->\n",
       "<g id=\"edge6\" class=\"edge\"><title>5&#45;&gt;6</title>\n",
       "<path fill=\"none\" stroke=\"black\" d=\"M372.86,-88.9485C369.349,-80.4408 365.558,-71.2562 362.005,-62.6464\"/>\n",
       "<polygon fill=\"black\" stroke=\"black\" points=\"365.172,-61.1452 358.121,-53.2367 358.701,-63.8157 365.172,-61.1452\"/>\n",
       "</g>\n",
       "<!-- 7 -->\n",
       "<g id=\"node8\" class=\"node\"><title>7</title>\n",
       "<polygon fill=\"none\" stroke=\"black\" points=\"506.5,-53 414.5,-53 414.5,-0 506.5,-0 506.5,-53\"/>\n",
       "<text text-anchor=\"middle\" x=\"460.5\" y=\"-37.8\" font-family=\"Times,serif\" font-size=\"14.00\">gini = 0.4898</text>\n",
       "<text text-anchor=\"middle\" x=\"460.5\" y=\"-22.8\" font-family=\"Times,serif\" font-size=\"14.00\">samples = 7</text>\n",
       "<text text-anchor=\"middle\" x=\"460.5\" y=\"-7.8\" font-family=\"Times,serif\" font-size=\"14.00\">value = [3, 4]</text>\n",
       "</g>\n",
       "<!-- 5&#45;&gt;7 -->\n",
       "<g id=\"edge7\" class=\"edge\"><title>5&#45;&gt;7</title>\n",
       "<path fill=\"none\" stroke=\"black\" d=\"M412.382,-88.9485C419.402,-79.9834 427.011,-70.2666 434.061,-61.2629\"/>\n",
       "<polygon fill=\"black\" stroke=\"black\" points=\"436.937,-63.2679 440.346,-53.2367 431.425,-58.9521 436.937,-63.2679\"/>\n",
       "</g>\n",
       "<!-- 9 -->\n",
       "<g id=\"node10\" class=\"node\"><title>9</title>\n",
       "<polygon fill=\"none\" stroke=\"black\" points=\"704.5,-157 532.5,-157 532.5,-89 704.5,-89 704.5,-157\"/>\n",
       "<text text-anchor=\"middle\" x=\"618.5\" y=\"-141.8\" font-family=\"Times,serif\" font-size=\"14.00\">MentalInterview_No &lt;= 0.5</text>\n",
       "<text text-anchor=\"middle\" x=\"618.5\" y=\"-126.8\" font-family=\"Times,serif\" font-size=\"14.00\">gini = 0.2393</text>\n",
       "<text text-anchor=\"middle\" x=\"618.5\" y=\"-111.8\" font-family=\"Times,serif\" font-size=\"14.00\">samples = 295</text>\n",
       "<text text-anchor=\"middle\" x=\"618.5\" y=\"-96.8\" font-family=\"Times,serif\" font-size=\"14.00\">value = [254, 41]</text>\n",
       "</g>\n",
       "<!-- 8&#45;&gt;9 -->\n",
       "<g id=\"edge9\" class=\"edge\"><title>8&#45;&gt;9</title>\n",
       "<path fill=\"none\" stroke=\"black\" d=\"M618.5,-192.884C618.5,-184.778 618.5,-175.982 618.5,-167.472\"/>\n",
       "<polygon fill=\"black\" stroke=\"black\" points=\"622,-167.299 618.5,-157.299 615,-167.299 622,-167.299\"/>\n",
       "</g>\n",
       "<!-- 12 -->\n",
       "<g id=\"node13\" class=\"node\"><title>12</title>\n",
       "<polygon fill=\"none\" stroke=\"black\" points=\"814.5,-149.5 722.5,-149.5 722.5,-96.5 814.5,-96.5 814.5,-149.5\"/>\n",
       "<text text-anchor=\"middle\" x=\"768.5\" y=\"-134.3\" font-family=\"Times,serif\" font-size=\"14.00\">gini = 0.0</text>\n",
       "<text text-anchor=\"middle\" x=\"768.5\" y=\"-119.3\" font-family=\"Times,serif\" font-size=\"14.00\">samples = 2</text>\n",
       "<text text-anchor=\"middle\" x=\"768.5\" y=\"-104.3\" font-family=\"Times,serif\" font-size=\"14.00\">value = [0, 2]</text>\n",
       "</g>\n",
       "<!-- 8&#45;&gt;12 -->\n",
       "<g id=\"edge12\" class=\"edge\"><title>8&#45;&gt;12</title>\n",
       "<path fill=\"none\" stroke=\"black\" d=\"M667.201,-192.884C684.991,-180.786 705.043,-167.151 722.583,-155.224\"/>\n",
       "<polygon fill=\"black\" stroke=\"black\" points=\"724.67,-158.037 730.971,-149.52 720.733,-152.249 724.67,-158.037\"/>\n",
       "</g>\n",
       "<!-- 10 -->\n",
       "<g id=\"node11\" class=\"node\"><title>10</title>\n",
       "<polygon fill=\"none\" stroke=\"black\" points=\"655.5,-53 543.5,-53 543.5,-0 655.5,-0 655.5,-53\"/>\n",
       "<text text-anchor=\"middle\" x=\"599.5\" y=\"-37.8\" font-family=\"Times,serif\" font-size=\"14.00\">gini = 0.1653</text>\n",
       "<text text-anchor=\"middle\" x=\"599.5\" y=\"-22.8\" font-family=\"Times,serif\" font-size=\"14.00\">samples = 143</text>\n",
       "<text text-anchor=\"middle\" x=\"599.5\" y=\"-7.8\" font-family=\"Times,serif\" font-size=\"14.00\">value = [130, 13]</text>\n",
       "</g>\n",
       "<!-- 9&#45;&gt;10 -->\n",
       "<g id=\"edge10\" class=\"edge\"><title>9&#45;&gt;10</title>\n",
       "<path fill=\"none\" stroke=\"black\" d=\"M611.855,-88.9485C610.181,-80.6238 608.377,-71.6509 606.678,-63.2027\"/>\n",
       "<polygon fill=\"black\" stroke=\"black\" points=\"610.077,-62.3506 604.675,-53.2367 603.214,-63.7304 610.077,-62.3506\"/>\n",
       "</g>\n",
       "<!-- 11 -->\n",
       "<g id=\"node12\" class=\"node\"><title>11</title>\n",
       "<polygon fill=\"none\" stroke=\"black\" points=\"785.5,-53 673.5,-53 673.5,-0 785.5,-0 785.5,-53\"/>\n",
       "<text text-anchor=\"middle\" x=\"729.5\" y=\"-37.8\" font-family=\"Times,serif\" font-size=\"14.00\">gini = 0.3006</text>\n",
       "<text text-anchor=\"middle\" x=\"729.5\" y=\"-22.8\" font-family=\"Times,serif\" font-size=\"14.00\">samples = 152</text>\n",
       "<text text-anchor=\"middle\" x=\"729.5\" y=\"-7.8\" font-family=\"Times,serif\" font-size=\"14.00\">value = [124, 28]</text>\n",
       "</g>\n",
       "<!-- 9&#45;&gt;11 -->\n",
       "<g id=\"edge11\" class=\"edge\"><title>9&#45;&gt;11</title>\n",
       "<path fill=\"none\" stroke=\"black\" d=\"M657.322,-88.9485C668.39,-79.526 680.433,-69.2731 691.454,-59.8906\"/>\n",
       "<polygon fill=\"black\" stroke=\"black\" points=\"693.924,-62.3842 699.27,-53.2367 689.386,-57.0542 693.924,-62.3842\"/>\n",
       "</g>\n",
       "</g>\n",
       "</svg>\n"
      ],
      "text/plain": [
       "<graphviz.files.Source at 0x7ff47efa24d0>"
      ]
     },
     "execution_count": 43,
     "metadata": {},
     "output_type": "execute_result"
    }
   ],
   "source": [
    "export_graphviz(clf, out_file=\"treatmentFactors.dot\", feature_names=X.columns)\n",
    "with open(\"treatmentFactors.dot\") as f:\n",
    "    dot_graph = f.read()\n",
    "graphviz.Source(dot_graph)"
   ]
  },
  {
   "cell_type": "markdown",
   "metadata": {},
   "source": [
    "### Divide into Training and Test\n",
    "\n",
    "Get accuracy values for training and test sets"
   ]
  },
  {
   "cell_type": "code",
   "execution_count": 44,
   "metadata": {
    "collapsed": false
   },
   "outputs": [
    {
     "name": "stdout",
     "output_type": "stream",
     "text": [
      "('Train: ', 0.9157303370786517, 'Test: ', 0.8370786516853933)\n"
     ]
    }
   ],
   "source": [
    "X_train, X_test, y_train, y_test = train_test_split(X, y, train_size=0.5, random_state=0)\n",
    "clf = DecisionTreeClassifier(max_depth=3)\n",
    "clf.fit(X_train, y_train)\n",
    "\n",
    "print (\"Train: \" , clf.score(X_train, y_train) , \"Test: \" , clf.score(X_test, y_test))"
   ]
  },
  {
   "cell_type": "code",
   "execution_count": null,
   "metadata": {
    "collapsed": true
   },
   "outputs": [],
   "source": []
  }
 ],
 "metadata": {
  "anaconda-cloud": {},
  "kernelspec": {
   "display_name": "Python [default]",
   "language": "python",
   "name": "python2"
  },
  "language_info": {
   "codemirror_mode": {
    "name": "ipython",
    "version": 2
   },
   "file_extension": ".py",
   "mimetype": "text/x-python",
   "name": "python",
   "nbconvert_exporter": "python",
   "pygments_lexer": "ipython2",
   "version": "2.7.12"
  }
 },
 "nbformat": 4,
 "nbformat_minor": 1
}
