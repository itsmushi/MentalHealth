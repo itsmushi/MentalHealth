{
 "cells": [
  {
   "cell_type": "code",
   "execution_count": 4,
   "metadata": {
    "collapsed": true
   },
   "outputs": [],
   "source": [
    "import pandas as pd\n",
    "import numpy as np\n",
    "import matplotlib as mpl\n",
    "import matplotlib.pyplot as plt\n",
    "import graphviz\n",
    "\n",
    "%matplotlib inline"
   ]
  },
  {
   "cell_type": "code",
   "execution_count": 5,
   "metadata": {
    "collapsed": false
   },
   "outputs": [
    {
     "data": {
      "text/plain": [
       "SelfEmp                  int64\n",
       "NumEmp                  object\n",
       "Tech                   float64\n",
       "TechRole               float64\n",
       "Benefits                object\n",
       "KnowBen                 object\n",
       "DiscussedBen            object\n",
       "ResourcesBen            object\n",
       "Anon                    object\n",
       "MentalLeave             object\n",
       "DiscMental              object\n",
       "DiscPhysical            object\n",
       "DiscMentalCo            object\n",
       "DiscMentalSup           object\n",
       "MentalSeriously         object\n",
       "NegConseq               object\n",
       "HaveCov                float64\n",
       "KnowRes                 object\n",
       "RevDiag                 object\n",
       "NegRevDiag              object\n",
       "Prod                    object\n",
       "PrecProd                object\n",
       "PhyInterview            object\n",
       "MentalInterview         object\n",
       "IdentifyMental          object\n",
       "NegMental               object\n",
       "FamMental               object\n",
       "FamHistory              object\n",
       "PastMental              object\n",
       "CurMental               object\n",
       "WhichCondDiag           object\n",
       "WhichCond               object\n",
       "Diagnosed               object\n",
       "Treatment                int64\n",
       "InterfereTreated        object\n",
       "InterfereNotTreated     object\n",
       "Age                      int64\n",
       "Gender                  object\n",
       "CountryLive             object\n",
       "StateLive               object\n",
       "CountryWork             object\n",
       "StateWork               object\n",
       "Position                object\n",
       "Remote                  object\n",
       "dtype: object"
      ]
     },
     "execution_count": 5,
     "metadata": {},
     "output_type": "execute_result"
    }
   ],
   "source": [
    "data = pd.read_csv('../data/mentalHealth.csv')\n",
    "\n",
    "data.head(10)\n",
    "data.dtypes"
   ]
  },
  {
   "cell_type": "code",
   "execution_count": null,
   "metadata": {
    "collapsed": true
   },
   "outputs": [],
   "source": []
  }
 ],
 "metadata": {
  "anaconda-cloud": {},
  "kernelspec": {
   "display_name": "Python [default]",
   "language": "python",
   "name": "python2"
  },
  "language_info": {
   "codemirror_mode": {
    "name": "ipython",
    "version": 2
   },
   "file_extension": ".py",
   "mimetype": "text/x-python",
   "name": "python",
   "nbconvert_exporter": "python",
   "pygments_lexer": "ipython2",
   "version": "2.7.12"
  }
 },
 "nbformat": 4,
 "nbformat_minor": 1
}
